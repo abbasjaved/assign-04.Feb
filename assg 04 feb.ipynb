{
 "cells": [
  {
   "cell_type": "code",
   "execution_count": 2,
   "id": "33be0360-a12b-4813-98ec-675a3b193acf",
   "metadata": {},
   "outputs": [],
   "source": [
    "#solution 1"
   ]
  },
  {
   "cell_type": "code",
   "execution_count": 111,
   "id": "657d71d8-3225-4c76-bd92-337a3caa606d",
   "metadata": {},
   "outputs": [],
   "source": [
    "l = [(\"Sachin\", 34357), (\"Ricky\", 27483), (\"Jack\", 25534),(\"Virat\", 24936)]"
   ]
  },
  {
   "cell_type": "code",
   "execution_count": 112,
   "id": "273a9972-59b8-4100-a788-a583941d1c3a",
   "metadata": {},
   "outputs": [
    {
     "data": {
      "text/plain": [
       "[('Sachin', 34357), ('Ricky', 27483), ('Jack', 25534), ('Virat', 24936)]"
      ]
     },
     "execution_count": 112,
     "metadata": {},
     "output_type": "execute_result"
    }
   ],
   "source": [
    "l"
   ]
  },
  {
   "cell_type": "code",
   "execution_count": 117,
   "id": "99601eaf-4da0-4ca1-9ad7-22d7c98906b8",
   "metadata": {},
   "outputs": [
    {
     "data": {
      "text/plain": [
       "['Sachin', 'Ricky', 'Jack', 'Virat']"
      ]
     },
     "execution_count": 117,
     "metadata": {},
     "output_type": "execute_result"
    }
   ],
   "source": [
    "list(map(lambda x: x[0],l))"
   ]
  },
  {
   "cell_type": "code",
   "execution_count": 3,
   "id": "f5d626c7-e288-4e7b-95c6-d09213f0c170",
   "metadata": {},
   "outputs": [],
   "source": [
    "#solution 2"
   ]
  },
  {
   "cell_type": "code",
   "execution_count": 4,
   "id": "8a9da69e-c430-4055-a3fc-b5a145129fd2",
   "metadata": {},
   "outputs": [],
   "source": [
    "l = [1,2,3,4,5,6,7,8,9,10]"
   ]
  },
  {
   "cell_type": "code",
   "execution_count": 11,
   "id": "0ca36993-344b-42e3-81b7-f1bb598a7242",
   "metadata": {},
   "outputs": [],
   "source": [
    "c = lambda x: x**2"
   ]
  },
  {
   "cell_type": "code",
   "execution_count": 13,
   "id": "9ce776cc-2b8d-4594-8c01-4930ac1f384e",
   "metadata": {},
   "outputs": [
    {
     "data": {
      "text/plain": [
       "[1, 4, 9, 16, 25, 36, 49, 64, 81, 100]"
      ]
     },
     "execution_count": 13,
     "metadata": {},
     "output_type": "execute_result"
    }
   ],
   "source": [
    "list(map(c,l))"
   ]
  },
  {
   "cell_type": "code",
   "execution_count": 38,
   "id": "356fb86d-f854-4e49-b5c7-1f58024f2cdd",
   "metadata": {},
   "outputs": [],
   "source": [
    "#Solution 3"
   ]
  },
  {
   "cell_type": "code",
   "execution_count": 39,
   "id": "ffa27f3d-eb97-4e5e-a1da-2f67bbbe0869",
   "metadata": {},
   "outputs": [
    {
     "data": {
      "text/plain": [
       "(1, 2, 3, 4, 5, 6, 7, 8, 9, 10)"
      ]
     },
     "execution_count": 39,
     "metadata": {},
     "output_type": "execute_result"
    }
   ],
   "source": [
    "tuple(map(lambda x : x, l))"
   ]
  },
  {
   "cell_type": "code",
   "execution_count": 49,
   "id": "316cbbaa-a58b-4631-a6bc-9723bb388414",
   "metadata": {},
   "outputs": [],
   "source": [
    "#solution 4"
   ]
  },
  {
   "cell_type": "code",
   "execution_count": 50,
   "id": "5ef2bc27-e32c-4277-83d7-652a4eb6cba5",
   "metadata": {},
   "outputs": [],
   "source": [
    "from functools import reduce"
   ]
  },
  {
   "cell_type": "code",
   "execution_count": 83,
   "id": "38aa7baa-e68b-49c5-85fd-5fffd9f6a968",
   "metadata": {},
   "outputs": [
    {
     "name": "stdin",
     "output_type": "stream",
     "text": [
      "Enter number:  4\n"
     ]
    },
    {
     "data": {
      "text/plain": [
       "24"
      ]
     },
     "execution_count": 83,
     "metadata": {},
     "output_type": "execute_result"
    }
   ],
   "source": [
    "n = int(input(\"Enter number: \"))\n",
    "z = list(range(1,n+1))\n",
    "reduce(lambda x , y : x *y , z)"
   ]
  },
  {
   "cell_type": "code",
   "execution_count": 75,
   "id": "cf282528-a541-497a-bdf3-da3ece60d501",
   "metadata": {},
   "outputs": [],
   "source": [
    "#solution 5"
   ]
  },
  {
   "cell_type": "code",
   "execution_count": 119,
   "id": "b42c9ff1-dd7e-4c28-b66d-6627abff380f",
   "metadata": {},
   "outputs": [],
   "source": [
    "l = [2,3,6,9,27,60,90,120,55,46]"
   ]
  },
  {
   "cell_type": "code",
   "execution_count": 124,
   "id": "3432d908-d486-439b-9564-d98529580d6b",
   "metadata": {},
   "outputs": [
    {
     "data": {
      "text/plain": [
       "[6, 60, 90, 120]"
      ]
     },
     "execution_count": 124,
     "metadata": {},
     "output_type": "execute_result"
    }
   ],
   "source": [
    "list(filter(lambda x: x % 2 ==0 and x % 3 == 0,l))"
   ]
  },
  {
   "cell_type": "code",
   "execution_count": 125,
   "id": "6746d597-10a1-4146-846c-fedc04901c49",
   "metadata": {},
   "outputs": [],
   "source": [
    "#solution 6"
   ]
  },
  {
   "cell_type": "code",
   "execution_count": 126,
   "id": "65e5694a-f8d9-4096-aae8-6d2f593edc52",
   "metadata": {},
   "outputs": [],
   "source": [
    "l = [\"python\", \"aba\", \"radar\", \"level\"]"
   ]
  },
  {
   "cell_type": "code",
   "execution_count": 127,
   "id": "b0147f38-62c4-4a1c-9b5e-a21250b7c02c",
   "metadata": {},
   "outputs": [
    {
     "data": {
      "text/plain": [
       "['python', 'aba', 'radar', 'level']"
      ]
     },
     "execution_count": 127,
     "metadata": {},
     "output_type": "execute_result"
    }
   ],
   "source": [
    "l"
   ]
  },
  {
   "cell_type": "code",
   "execution_count": 145,
   "id": "69eebbbf-e411-45de-89fa-4a2bf6586606",
   "metadata": {},
   "outputs": [
    {
     "data": {
      "text/plain": [
       "['aba', 'radar', 'level']"
      ]
     },
     "execution_count": 145,
     "metadata": {},
     "output_type": "execute_result"
    }
   ],
   "source": [
    "list(filter(lambda x : (x[::1]==x[::-1]), l))"
   ]
  },
  {
   "cell_type": "code",
   "execution_count": null,
   "id": "6c5846d6-0494-48ec-a681-4d53293bce74",
   "metadata": {},
   "outputs": [],
   "source": []
  }
 ],
 "metadata": {
  "kernelspec": {
   "display_name": "Python 3 (ipykernel)",
   "language": "python",
   "name": "python3"
  },
  "language_info": {
   "codemirror_mode": {
    "name": "ipython",
    "version": 3
   },
   "file_extension": ".py",
   "mimetype": "text/x-python",
   "name": "python",
   "nbconvert_exporter": "python",
   "pygments_lexer": "ipython3",
   "version": "3.10.8"
  }
 },
 "nbformat": 4,
 "nbformat_minor": 5
}
